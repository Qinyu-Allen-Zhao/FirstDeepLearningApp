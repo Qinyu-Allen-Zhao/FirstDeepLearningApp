{
  "nbformat": 4,
  "nbformat_minor": 0,
  "metadata": {
    "colab": {
      "name": "Train text classification models with TFLite Model Maker.ipynb",
      "provenance": [],
      "collapsed_sections": [],
      "toc_visible": true
    },
    "kernelspec": {
      "name": "python3",
      "display_name": "Python 3"
    },
    "accelerator": "GPU"
  },
  "cells": [
    {
      "cell_type": "markdown",
      "metadata": {
        "id": "ueWs88mW64dQ"
      },
      "source": [
        "##### Copyright 2020 The TensorFlow Authors."
      ]
    },
    {
      "cell_type": "code",
      "metadata": {
        "id": "lKuRIgOe6tN8",
        "cellView": "form"
      },
      "source": [
        "#@title Licensed under the Apache License, Version 2.0 (the \"License\");\n",
        "# you may not use this file except in compliance with the License.\n",
        "# You may obtain a copy of the License at\n",
        "#\n",
        "# https://www.apache.org/licenses/LICENSE-2.0\n",
        "#\n",
        "# Unless required by applicable law or agreed to in writing, software\n",
        "# distributed under the License is distributed on an \"AS IS\" BASIS,\n",
        "# WITHOUT WARRANTIES OR CONDITIONS OF ANY KIND, either express or implied.\n",
        "# See the License for the specific language governing permissions and\n",
        "# limitations under the License."
      ],
      "execution_count": 1,
      "outputs": []
    },
    {
      "cell_type": "markdown",
      "metadata": {
        "id": "TyF17hj-CBW0"
      },
      "source": [
        "## Train sentiment analysis models with TensorFlow Lite Model Maker\n",
        "\n",
        "In this step, we will use the [Stanford Sentiment Treebank v2](https://nlp.stanford.edu/~socherr/EMNLP2013_RNTN.pdf)(SST-2) dataset to train the model. The dataset contains more than 11,000 sentences from movie reviews and the sentiment (positive or negative) of each sentence. Here is some examples from the dataset:\n",
        "\n",
        "| Sentence | Sentiment |\n",
        "|-|-|\n",
        "| This is a film well worth seeing , talking and singing heads and all . | Positive |\n",
        "| What really surprises about Wisegirls is its low-key quality and genuine tenderness . | Positive |\n",
        "| Though everything might be literate and smart , it never took off and always seemed static . | Negative |\n",
        "\n",
        "We will use TensorFlow Lite Model Maker to train **text classification** models with this dataset. **Sentiment analysis** is one type of **text classification** because its goal is to classify a body of text into positive or negative sentiment. We will train two models:\n",
        "* An `average word vector` model: This is a light-weight model which is less 1MB and also runs very fast.\n",
        "* A `MobileBERT` model: This is a more accurate but larger model.\n",
        "\n",
        "You also can choose a model architecture in advance and train only one model. However, it is recommended to train multiple models with different architecture and examine the trade-off between model size and accuracy and see which model is more suitable for your use case.\n",
        "\n",
        "*Note: Before you proceed, make sure that the Colab notebook is in GPU mode to speed up model training.*"
      ]
    },
    {
      "cell_type": "markdown",
      "metadata": {
        "id": "Emuo3vN6HHgR"
      },
      "source": [
        "### Install the required packages\n",
        "\n",
        "Let's start by installing TFLite Model Maker and import the required packages."
      ]
    },
    {
      "cell_type": "code",
      "metadata": {
        "id": "Y3hEKemiHTcs",
        "outputId": "62a991f4-384a-4f4d-dcd4-5de23dcab9ac",
        "colab": {
          "base_uri": "https://localhost:8080/"
        }
      },
      "source": [
        "!pip install -q tflite-model-maker"
      ],
      "execution_count": 2,
      "outputs": [
        {
          "output_type": "stream",
          "name": "stdout",
          "text": [
            "\u001b[K     |████████████████████████████████| 591 kB 12.8 MB/s \n",
            "\u001b[K     |████████████████████████████████| 1.1 MB 37.4 MB/s \n",
            "\u001b[K     |████████████████████████████████| 1.1 MB 44.9 MB/s \n",
            "\u001b[K     |████████████████████████████████| 213 kB 49.2 MB/s \n",
            "\u001b[K     |████████████████████████████████| 1.2 MB 42.7 MB/s \n",
            "\u001b[K     |████████████████████████████████| 64 kB 3.1 MB/s \n",
            "\u001b[K     |████████████████████████████████| 6.3 MB 43.5 MB/s \n",
            "\u001b[K     |████████████████████████████████| 120 kB 44.0 MB/s \n",
            "\u001b[K     |████████████████████████████████| 596 kB 50.6 MB/s \n",
            "\u001b[K     |████████████████████████████████| 103 kB 51.5 MB/s \n",
            "\u001b[K     |████████████████████████████████| 87 kB 6.7 MB/s \n",
            "\u001b[K     |████████████████████████████████| 840 kB 44.9 MB/s \n",
            "\u001b[K     |████████████████████████████████| 352 kB 53.8 MB/s \n",
            "\u001b[K     |████████████████████████████████| 47.6 MB 33 kB/s \n",
            "\u001b[K     |████████████████████████████████| 99 kB 9.2 MB/s \n",
            "\u001b[K     |████████████████████████████████| 208 kB 44.7 MB/s \n",
            "\u001b[?25h  Building wheel for fire (setup.py) ... \u001b[?25l\u001b[?25hdone\n",
            "  Building wheel for py-cpuinfo (setup.py) ... \u001b[?25l\u001b[?25hdone\n"
          ]
        }
      ]
    },
    {
      "cell_type": "code",
      "metadata": {
        "id": "60bgUw9CHrLg"
      },
      "source": [
        "import numpy as np\n",
        "import os\n",
        "\n",
        "from tflite_model_maker import configs\n",
        "from tflite_model_maker import ExportFormat\n",
        "from tflite_model_maker import model_spec\n",
        "from tflite_model_maker import text_classifier\n",
        "from tflite_model_maker.text_classifier import DataLoader\n",
        "\n",
        "import tensorflow as tf\n",
        "assert tf.__version__.startswith('2')"
      ],
      "execution_count": 3,
      "outputs": []
    },
    {
      "cell_type": "markdown",
      "metadata": {
        "id": "tQV0AGk0GzcZ"
      },
      "source": [
        "### Download the SST-2 dataset"
      ]
    },
    {
      "cell_type": "code",
      "metadata": {
        "id": "T1w4EXleB7Or",
        "outputId": "bc8787bb-27d1-423c-adb6-d743ff7f259e",
        "colab": {
          "base_uri": "https://localhost:8080/"
        }
      },
      "source": [
        "data_dir = tf.keras.utils.get_file(\n",
        "      fname='SST-2.zip',\n",
        "      origin='https://dl.fbaipublicfiles.com/glue/data/SST-2.zip',\n",
        "      extract=True)\n",
        "data_dir = os.path.join(os.path.dirname(data_dir), 'SST-2')"
      ],
      "execution_count": 4,
      "outputs": [
        {
          "output_type": "stream",
          "name": "stdout",
          "text": [
            "Downloading data from https://dl.fbaipublicfiles.com/glue/data/SST-2.zip\n",
            "7446528/7439277 [==============================] - 1s 0us/step\n",
            "7454720/7439277 [==============================] - 1s 0us/step\n"
          ]
        }
      ]
    },
    {
      "cell_type": "markdown",
      "metadata": {
        "id": "8mE7O0f8IWlD"
      },
      "source": [
        "## Train our first model: an `Average Word Vector` model\n",
        "\n",
        "This is the light-weight model architecture that can be trained in a few minutes. The model is small and runs fast with decent accuracy."
      ]
    },
    {
      "cell_type": "markdown",
      "metadata": {
        "id": "QBYmPuWkIthx"
      },
      "source": [
        "### Specify the model architecture"
      ]
    },
    {
      "cell_type": "code",
      "metadata": {
        "id": "5uqVRE7zIjU0"
      },
      "source": [
        "awv_spec = model_spec.get('average_word_vec')"
      ],
      "execution_count": 5,
      "outputs": []
    },
    {
      "cell_type": "markdown",
      "metadata": {
        "id": "GeP5Np-IIFF3"
      },
      "source": [
        "### Pre-process data\n",
        "Convert the SST-2 dataset to input format that is required by TFLite Model Maker. Please note that there are two portion of our dataset:\n",
        "* `train.tsv`: The **training** dataset that the model will learn from.\n",
        "* `dev.tsv`: The **evaluation** dataset that the model doesn't see when it is trained. This is used to test if the sentiment analysis is able to generalize well on new data that it has never seen before."
      ]
    },
    {
      "cell_type": "code",
      "metadata": {
        "id": "2h9s8IVyIEmS",
        "outputId": "514710e6-b42e-46ce-8174-49ed327c8fc8",
        "colab": {
          "base_uri": "https://localhost:8080/"
        }
      },
      "source": [
        "awv_train_data = DataLoader.from_csv(\n",
        "      filename=os.path.join(os.path.join(data_dir, 'train.tsv')),\n",
        "      text_column='sentence',\n",
        "      label_column='label',\n",
        "      model_spec=awv_spec,\n",
        "      delimiter='\\t',\n",
        "      is_training=True)\n",
        "awv_test_data = DataLoader.from_csv(\n",
        "      filename=os.path.join(os.path.join(data_dir, 'dev.tsv')),\n",
        "      text_column='sentence',\n",
        "      label_column='label',\n",
        "      model_spec=awv_spec,\n",
        "      delimiter='\\t',\n",
        "      is_training=False)"
      ],
      "execution_count": 6,
      "outputs": [
        {
          "output_type": "stream",
          "name": "stdout",
          "text": [
            "INFO:tensorflow:Saved vocabulary in /tmp/tmprn7l5mzz/e72d242a17446c5dc91aa41e181ce914_vocab.\n"
          ]
        }
      ]
    },
    {
      "cell_type": "markdown",
      "metadata": {
        "id": "-N21UUIeI1MU"
      },
      "source": [
        "### Train the model\n",
        "We use TFLite Model Maker to train a TensorFlow model with the training dataset."
      ]
    },
    {
      "cell_type": "code",
      "metadata": {
        "id": "8PkcNAh6I859",
        "outputId": "3145f740-ff32-4e73-f7ca-b5187b97cb49",
        "colab": {
          "base_uri": "https://localhost:8080/"
        }
      },
      "source": [
        "awv_model = text_classifier.create(awv_train_data, model_spec=awv_spec, epochs=10)"
      ],
      "execution_count": 7,
      "outputs": [
        {
          "output_type": "stream",
          "name": "stdout",
          "text": [
            "INFO:tensorflow:Retraining the models...\n"
          ]
        },
        {
          "output_type": "stream",
          "name": "stderr",
          "text": [
            "INFO:tensorflow:Retraining the models...\n"
          ]
        },
        {
          "output_type": "stream",
          "name": "stdout",
          "text": [
            "Epoch 1/10\n",
            "2104/2104 [==============================] - 16s 6ms/step - loss: 0.6736 - accuracy: 0.5739\n",
            "Epoch 2/10\n",
            "2104/2104 [==============================] - 13s 6ms/step - loss: 0.5348 - accuracy: 0.7436\n",
            "Epoch 3/10\n",
            "2104/2104 [==============================] - 13s 6ms/step - loss: 0.4290 - accuracy: 0.8081\n",
            "Epoch 4/10\n",
            "2104/2104 [==============================] - 13s 6ms/step - loss: 0.3862 - accuracy: 0.8301\n",
            "Epoch 5/10\n",
            "2104/2104 [==============================] - 13s 6ms/step - loss: 0.3637 - accuracy: 0.8422\n",
            "Epoch 6/10\n",
            "2104/2104 [==============================] - 13s 6ms/step - loss: 0.3493 - accuracy: 0.8515\n",
            "Epoch 7/10\n",
            "2104/2104 [==============================] - 13s 6ms/step - loss: 0.3383 - accuracy: 0.8564\n",
            "Epoch 8/10\n",
            "2104/2104 [==============================] - 13s 6ms/step - loss: 0.3304 - accuracy: 0.8621\n",
            "Epoch 9/10\n",
            "2104/2104 [==============================] - 13s 6ms/step - loss: 0.3236 - accuracy: 0.8644\n",
            "Epoch 10/10\n",
            "2104/2104 [==============================] - 13s 6ms/step - loss: 0.3182 - accuracy: 0.8680\n"
          ]
        }
      ]
    },
    {
      "cell_type": "markdown",
      "metadata": {
        "id": "yoBLTfv-IDYd"
      },
      "source": [
        "### Evaluate the model\n",
        "\n",
        "Let's see how the model performs against new data in the evaluation dataset that it has never seen before."
      ]
    },
    {
      "cell_type": "code",
      "metadata": {
        "id": "z5rxsIG9JhKB",
        "outputId": "13a92a4f-fe00-4076-c47c-4e8c270063b2",
        "colab": {
          "base_uri": "https://localhost:8080/"
        }
      },
      "source": [
        "awv_model.evaluate(awv_test_data)"
      ],
      "execution_count": 8,
      "outputs": [
        {
          "output_type": "stream",
          "name": "stdout",
          "text": [
            "28/28 [==============================] - 0s 5ms/step - loss: 0.5097 - accuracy: 0.8222\n"
          ]
        },
        {
          "output_type": "execute_result",
          "data": {
            "text/plain": [
              "[0.5097113251686096, 0.8222476840019226]"
            ]
          },
          "metadata": {},
          "execution_count": 8
        }
      ]
    },
    {
      "cell_type": "markdown",
      "metadata": {
        "id": "7yZcFfVyJiVf"
      },
      "source": [
        "### Export the model into TensorFlow Lite format"
      ]
    },
    {
      "cell_type": "code",
      "metadata": {
        "id": "qxFPFO6eJl2A",
        "outputId": "45726aeb-3e2f-4f22-bab8-5100abbc1959",
        "colab": {
          "base_uri": "https://localhost:8080/"
        }
      },
      "source": [
        "awv_model.export(export_dir='average_word_vec/')"
      ],
      "execution_count": 9,
      "outputs": [
        {
          "output_type": "stream",
          "name": "stdout",
          "text": [
            "INFO:tensorflow:Assets written to: /tmp/tmp9t1vrw9o/assets\n"
          ]
        },
        {
          "output_type": "stream",
          "name": "stderr",
          "text": [
            "INFO:tensorflow:Assets written to: /tmp/tmp9t1vrw9o/assets\n"
          ]
        },
        {
          "output_type": "stream",
          "name": "stdout",
          "text": [
            "INFO:tensorflow:Vocab file and label file are inside the TFLite model with metadata.\n"
          ]
        },
        {
          "output_type": "stream",
          "name": "stderr",
          "text": [
            "INFO:tensorflow:Vocab file and label file are inside the TFLite model with metadata.\n"
          ]
        },
        {
          "output_type": "stream",
          "name": "stdout",
          "text": [
            "INFO:tensorflow:Saved vocabulary in /tmp/tmprz3a704h/vocab.txt.\n"
          ]
        },
        {
          "output_type": "stream",
          "name": "stderr",
          "text": [
            "INFO:tensorflow:Saved vocabulary in /tmp/tmprz3a704h/vocab.txt.\n"
          ]
        },
        {
          "output_type": "stream",
          "name": "stdout",
          "text": [
            "INFO:tensorflow:Saving labels in /tmp/tmprz3a704h/labels.txt\n"
          ]
        },
        {
          "output_type": "stream",
          "name": "stderr",
          "text": [
            "INFO:tensorflow:Saving labels in /tmp/tmprz3a704h/labels.txt\n"
          ]
        },
        {
          "output_type": "stream",
          "name": "stdout",
          "text": [
            "INFO:tensorflow:Finished populating metadata and associated file to the model:\n"
          ]
        },
        {
          "output_type": "stream",
          "name": "stderr",
          "text": [
            "INFO:tensorflow:Finished populating metadata and associated file to the model:\n"
          ]
        },
        {
          "output_type": "stream",
          "name": "stdout",
          "text": [
            "INFO:tensorflow:average_word_vec/model.tflite\n"
          ]
        },
        {
          "output_type": "stream",
          "name": "stderr",
          "text": [
            "INFO:tensorflow:average_word_vec/model.tflite\n"
          ]
        },
        {
          "output_type": "stream",
          "name": "stdout",
          "text": [
            "INFO:tensorflow:The associated file that has been been packed to the model is:\n"
          ]
        },
        {
          "output_type": "stream",
          "name": "stderr",
          "text": [
            "INFO:tensorflow:The associated file that has been been packed to the model is:\n"
          ]
        },
        {
          "output_type": "stream",
          "name": "stdout",
          "text": [
            "INFO:tensorflow:['labels.txt', 'vocab.txt']\n"
          ]
        },
        {
          "output_type": "stream",
          "name": "stderr",
          "text": [
            "INFO:tensorflow:['labels.txt', 'vocab.txt']\n"
          ]
        },
        {
          "output_type": "stream",
          "name": "stdout",
          "text": [
            "INFO:tensorflow:TensorFlow Lite model exported successfully: average_word_vec/model.tflite\n"
          ]
        },
        {
          "output_type": "stream",
          "name": "stderr",
          "text": [
            "INFO:tensorflow:TensorFlow Lite model exported successfully: average_word_vec/model.tflite\n"
          ]
        }
      ]
    },
    {
      "cell_type": "markdown",
      "metadata": {
        "id": "e-EOzxUgNfMg"
      },
      "source": [
        "## Optional: Train our second model: an `MobileBERT` model\n",
        "\n",
        "`MobileBERT` models are more accurate than `Average Word Vector` models but they are also larger. It will take about 30 minutes to be train our `MobileBERT` sentiment analysis model."
      ]
    },
    {
      "cell_type": "markdown",
      "metadata": {
        "id": "z5Vxm6nXNc0p"
      },
      "source": [
        "### Specify the model architecture\n",
        "\n",
        "You will see that all steps below are mostly the same as training a `Average Word Vector` sentiment analysis model. Here we use `MobileBert` model specification instead of the `Average Word Vector` specification."
      ]
    },
    {
      "cell_type": "code",
      "metadata": {
        "id": "0LtB_6iJNc0q"
      },
      "source": [
        "mb_spec = model_spec.get('mobilebert_classifier')"
      ],
      "execution_count": 10,
      "outputs": []
    },
    {
      "cell_type": "markdown",
      "metadata": {
        "id": "VQtxxFFXNc0s"
      },
      "source": [
        "### Pre-process data\n",
        "Convert the SST-2 dataset to input format that is required by TFLite Model Maker. As `MobileBERT` models and `Average Word Vector` models take different input format, we'll need to run the data preprocess step again."
      ]
    },
    {
      "cell_type": "code",
      "metadata": {
        "id": "x31sYjOhNc0t"
      },
      "source": [
        "mb_train_data = DataLoader.from_csv(\n",
        "      filename=os.path.join(os.path.join(data_dir, 'train.tsv')),\n",
        "      text_column='sentence',\n",
        "      label_column='label',\n",
        "      model_spec=mb_spec,\n",
        "      delimiter='\\t',\n",
        "      is_training=True)\n",
        "mb_test_data = DataLoader.from_csv(\n",
        "      filename=os.path.join(os.path.join(data_dir, 'dev.tsv')),\n",
        "      text_column='sentence',\n",
        "      label_column='label',\n",
        "      model_spec=mb_spec,\n",
        "      delimiter='\\t',\n",
        "      is_training=False)"
      ],
      "execution_count": 11,
      "outputs": []
    },
    {
      "cell_type": "markdown",
      "metadata": {
        "id": "a_q2J6XMNc0w"
      },
      "source": [
        "### Train the model\n",
        "We use TFLite Model Maker to train a TensorFlow model with the training dataset."
      ]
    },
    {
      "cell_type": "code",
      "metadata": {
        "id": "U2aSwMhsNc0x",
        "outputId": "7ea68f74-bb9d-4600-a261-7163818a4ddc",
        "colab": {
          "base_uri": "https://localhost:8080/"
        }
      },
      "source": [
        "mb_model = text_classifier.create(mb_train_data, model_spec=mb_spec, epochs=3)"
      ],
      "execution_count": 12,
      "outputs": [
        {
          "output_type": "stream",
          "name": "stdout",
          "text": [
            "INFO:tensorflow:Retraining the models...\n"
          ]
        },
        {
          "output_type": "stream",
          "name": "stderr",
          "text": [
            "INFO:tensorflow:Retraining the models...\n"
          ]
        },
        {
          "output_type": "stream",
          "name": "stdout",
          "text": [
            "Epoch 1/3\n",
            "1403/1403 [==============================] - 1441s 983ms/step - loss: 0.4869 - test_accuracy: 0.8503\n",
            "Epoch 2/3\n",
            "1403/1403 [==============================] - 1372s 978ms/step - loss: 0.1302 - test_accuracy: 0.9539\n",
            "Epoch 3/3\n",
            "1403/1403 [==============================] - 1382s 985ms/step - loss: 0.0770 - test_accuracy: 0.9759\n"
          ]
        }
      ]
    },
    {
      "cell_type": "markdown",
      "metadata": {
        "id": "Tt9euSVBNc00"
      },
      "source": [
        "### Evaluate the model\n",
        "\n",
        "Let's see how the model performs against new data in the evaluation dataset that it has never seen before."
      ]
    },
    {
      "cell_type": "code",
      "metadata": {
        "id": "j95FMIgxNc00",
        "outputId": "736005bb-0aa9-4c73-8be5-e91802cea76a",
        "colab": {
          "base_uri": "https://localhost:8080/"
        }
      },
      "source": [
        "mb_model.evaluate(mb_test_data)"
      ],
      "execution_count": 13,
      "outputs": [
        {
          "output_type": "stream",
          "name": "stdout",
          "text": [
            "28/28 [==============================] - 11s 230ms/step - loss: 0.3997 - test_accuracy: 0.9014\n"
          ]
        },
        {
          "output_type": "execute_result",
          "data": {
            "text/plain": [
              "[0.39973363280296326, 0.9013761281967163]"
            ]
          },
          "metadata": {},
          "execution_count": 13
        }
      ]
    },
    {
      "cell_type": "markdown",
      "metadata": {
        "id": "ZYlHbGkaNc03"
      },
      "source": [
        "### Export the model into TensorFlow Lite format"
      ]
    },
    {
      "cell_type": "code",
      "metadata": {
        "id": "CKtUucRUNc03",
        "outputId": "11c06754-6a82-4ebd-a25b-03a5a0e2636f",
        "colab": {
          "base_uri": "https://localhost:8080/"
        }
      },
      "source": [
        "mb_model.export(export_dir='mobilebert/')"
      ],
      "execution_count": 14,
      "outputs": [
        {
          "output_type": "stream",
          "name": "stdout",
          "text": [
            "INFO:tensorflow:Assets written to: /tmp/tmp6xp3x6xk/saved_model/assets\n"
          ]
        },
        {
          "output_type": "stream",
          "name": "stderr",
          "text": [
            "INFO:tensorflow:Assets written to: /tmp/tmp6xp3x6xk/saved_model/assets\n"
          ]
        },
        {
          "output_type": "stream",
          "name": "stdout",
          "text": [
            "INFO:tensorflow:Vocab file and label file are inside the TFLite model with metadata.\n"
          ]
        },
        {
          "output_type": "stream",
          "name": "stderr",
          "text": [
            "INFO:tensorflow:Vocab file and label file are inside the TFLite model with metadata.\n"
          ]
        },
        {
          "output_type": "stream",
          "name": "stdout",
          "text": [
            "INFO:tensorflow:Saved vocabulary in /tmp/tmpcis582oj/vocab.txt.\n"
          ]
        },
        {
          "output_type": "stream",
          "name": "stderr",
          "text": [
            "INFO:tensorflow:Saved vocabulary in /tmp/tmpcis582oj/vocab.txt.\n"
          ]
        },
        {
          "output_type": "stream",
          "name": "stdout",
          "text": [
            "INFO:tensorflow:Saving labels in /tmp/tmpcis582oj/labels.txt\n"
          ]
        },
        {
          "output_type": "stream",
          "name": "stderr",
          "text": [
            "INFO:tensorflow:Saving labels in /tmp/tmpcis582oj/labels.txt\n"
          ]
        },
        {
          "output_type": "stream",
          "name": "stdout",
          "text": [
            "INFO:tensorflow:Finished populating metadata and associated file to the model:\n"
          ]
        },
        {
          "output_type": "stream",
          "name": "stderr",
          "text": [
            "INFO:tensorflow:Finished populating metadata and associated file to the model:\n"
          ]
        },
        {
          "output_type": "stream",
          "name": "stdout",
          "text": [
            "INFO:tensorflow:mobilebert/model.tflite\n"
          ]
        },
        {
          "output_type": "stream",
          "name": "stderr",
          "text": [
            "INFO:tensorflow:mobilebert/model.tflite\n"
          ]
        },
        {
          "output_type": "stream",
          "name": "stdout",
          "text": [
            "INFO:tensorflow:The associated file that has been been packed to the model is:\n"
          ]
        },
        {
          "output_type": "stream",
          "name": "stderr",
          "text": [
            "INFO:tensorflow:The associated file that has been been packed to the model is:\n"
          ]
        },
        {
          "output_type": "stream",
          "name": "stdout",
          "text": [
            "INFO:tensorflow:['labels.txt', 'vocab.txt']\n"
          ]
        },
        {
          "output_type": "stream",
          "name": "stderr",
          "text": [
            "INFO:tensorflow:['labels.txt', 'vocab.txt']\n"
          ]
        },
        {
          "output_type": "stream",
          "name": "stdout",
          "text": [
            "INFO:tensorflow:TensorFlow Lite model exported successfully: mobilebert/model.tflite\n"
          ]
        },
        {
          "output_type": "stream",
          "name": "stderr",
          "text": [
            "INFO:tensorflow:TensorFlow Lite model exported successfully: mobilebert/model.tflite\n"
          ]
        }
      ]
    },
    {
      "cell_type": "markdown",
      "metadata": {
        "id": "HgYp2m_2Qw14"
      },
      "source": [
        "## Optional: Compare the two models\n",
        "\n",
        "Let's see the model size:"
      ]
    },
    {
      "cell_type": "code",
      "metadata": {
        "id": "5HCXbC9bQ6XD",
        "outputId": "aeaf4fc8-6980-4934-d41a-3d0b76658c71",
        "colab": {
          "base_uri": "https://localhost:8080/"
        }
      },
      "source": [
        "print('Average Word Vector')\n",
        "!ls -all --block-size=KB average_word_vec/*.tflite\n",
        "print('MobileBERT')\n",
        "!ls -all --block-size=KB mobilebert/*.tflite"
      ],
      "execution_count": 15,
      "outputs": [
        {
          "output_type": "stream",
          "name": "stdout",
          "text": [
            "Average Word Vector\n",
            "-rw-r--r-- 1 root root 776kB Oct 31 03:27 average_word_vec/model.tflite\n",
            "MobileBERT\n",
            "-rw-r--r-- 1 root root 25820kB Oct 31 04:40 mobilebert/model.tflite\n"
          ]
        }
      ]
    },
    {
      "cell_type": "markdown",
      "metadata": {
        "id": "ITSl4t_ORq0U"
      },
      "source": [
        "You can optionally use the [TFLite benchmark tool](https://www.tensorflow.org/lite/performance/measurement#benchmark_tools) to measure the each model speed on mobile phones. The model speed of a certain model architecture does not change no matter which dataset you use to train the model. Therefore, you can refer to the model speed data on TensorFlow Lite website without running the benchmark by yourself.\n",
        "\n",
        "Let's compare our two sentiment analysis models:\n",
        "\n",
        "| Model Architecture | Accuracy | Size | Speed |\n",
        "|-|-|-|-|\n",
        "| Average Word Vector | 83% | 0.77MB | 0.05ms |\n",
        "| MobileBERT | 90% | 25.7MB | 83ms |\n",
        "\n",
        "*Note: Model speed was measured on Pixel 4 CPU, running on 2 threads.*"
      ]
    },
    {
      "cell_type": "markdown",
      "metadata": {
        "id": "Oz79xsy2x1_e"
      },
      "source": [
        "## Download the TFLite model.\n",
        "\n",
        "We want to start small with a light-weight model, so the `Average Word Vector` model seems to be more suitable for our use case. Let's download it."
      ]
    },
    {
      "cell_type": "code",
      "metadata": {
        "id": "Sr5edyAqNKmR",
        "outputId": "5fe68b0e-5f71-4a5b-f639-c916b476ecdf",
        "colab": {
          "base_uri": "https://localhost:8080/",
          "height": 17
        }
      },
      "source": [
        "!cp average_word_vec/model.tflite sentiment_analysis.tflite\n",
        "\n",
        "from google.colab import files\n",
        "files.download('sentiment_analysis.tflite') "
      ],
      "execution_count": 16,
      "outputs": [
        {
          "output_type": "display_data",
          "data": {
            "application/javascript": [
              "\n",
              "    async function download(id, filename, size) {\n",
              "      if (!google.colab.kernel.accessAllowed) {\n",
              "        return;\n",
              "      }\n",
              "      const div = document.createElement('div');\n",
              "      const label = document.createElement('label');\n",
              "      label.textContent = `Downloading \"${filename}\": `;\n",
              "      div.appendChild(label);\n",
              "      const progress = document.createElement('progress');\n",
              "      progress.max = size;\n",
              "      div.appendChild(progress);\n",
              "      document.body.appendChild(div);\n",
              "\n",
              "      const buffers = [];\n",
              "      let downloaded = 0;\n",
              "\n",
              "      const channel = await google.colab.kernel.comms.open(id);\n",
              "      // Send a message to notify the kernel that we're ready.\n",
              "      channel.send({})\n",
              "\n",
              "      for await (const message of channel.messages) {\n",
              "        // Send a message to notify the kernel that we're ready.\n",
              "        channel.send({})\n",
              "        if (message.buffers) {\n",
              "          for (const buffer of message.buffers) {\n",
              "            buffers.push(buffer);\n",
              "            downloaded += buffer.byteLength;\n",
              "            progress.value = downloaded;\n",
              "          }\n",
              "        }\n",
              "      }\n",
              "      const blob = new Blob(buffers, {type: 'application/binary'});\n",
              "      const a = document.createElement('a');\n",
              "      a.href = window.URL.createObjectURL(blob);\n",
              "      a.download = filename;\n",
              "      div.appendChild(a);\n",
              "      a.click();\n",
              "      div.remove();\n",
              "    }\n",
              "  "
            ],
            "text/plain": [
              "<IPython.core.display.Javascript object>"
            ]
          },
          "metadata": {}
        },
        {
          "output_type": "display_data",
          "data": {
            "application/javascript": [
              "download(\"download_2727e36e-1317-4a5d-bdc9-e4ca2a37c0d4\", \"sentiment_analysis.tflite\", 775494)"
            ],
            "text/plain": [
              "<IPython.core.display.Javascript object>"
            ]
          },
          "metadata": {}
        }
      ]
    },
    {
      "cell_type": "markdown",
      "metadata": {
        "id": "VuHyfm_64RXn"
      },
      "source": [
        "Now you have finished training the two TFLite sentiment analysis models. Let's go back to the next step in the codelab."
      ]
    }
  ]
}